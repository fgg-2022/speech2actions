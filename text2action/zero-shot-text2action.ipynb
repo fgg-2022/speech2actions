{
 "cells": [
  {
   "cell_type": "code",
   "execution_count": 1,
   "metadata": {},
   "outputs": [],
   "source": [
    "import pickle\n",
    "# import hanlp\n",
    "import matplotlib.pyplot as plt\n",
    "import requests\n",
    "import random\n",
    "import json\n",
    "import numpy as np\n",
    "# from gensim.models.keyedvectors import KeyedVectors\n",
    "from transformers import BertTokenizer, BertModel"
   ]
  },
  {
   "cell_type": "code",
   "execution_count": 2,
   "metadata": {
    "pycharm": {
     "name": "#%%\n"
    }
   },
   "outputs": [],
   "source": [
    "# 余弦相似度\n",
    "def cos_sim(vector_a, vector_b):\n",
    "    \"\"\"\n",
    "    计算两个向量之间的余弦相似度\n",
    "    :param vector_a: 向量 a\n",
    "    :param vector_b: 向量 b\n",
    "    :return: sim\n",
    "    \"\"\"\n",
    "    vector_a = np.mat(vector_a)\n",
    "    vector_b = np.mat(vector_b)\n",
    "    num = float(vector_a * vector_b.T)\n",
    "    denom = np.linalg.norm(vector_a) * np.linalg.norm(vector_b)\n",
    "    cos = num / denom\n",
    "    sim = 0.5 + 0.5 * cos\n",
    "    return sim\n",
    "\n",
    "# 欧氏距离\n",
    "def euc_dist(vector_a, vector_b):\n",
    "    return np.sqrt(np.sum(np.square(vector_a-vector_b)))"
   ]
  },
  {
   "cell_type": "code",
   "execution_count": 3,
   "metadata": {
    "pycharm": {
     "name": "#%%\n"
    }
   },
   "outputs": [],
   "source": [
    "# 翻译\n",
    "def translate(sent):\n",
    "    API_KEY = 'HZAnl45C1imoFTwpXLrupO3Z'\n",
    "    Secret_Key = 'ojsKK6BAp1sIDd1OoeFIBhdWCpYYDFMM'\n",
    "    host = f'https://aip.baidubce.com/oauth/2.0/token?grant_type' \\\n",
    "           f'=client_credentials&client_id={API_KEY}&client_secret={Secret_Key}'\n",
    "    response = requests.get(host)\n",
    "    if response:\n",
    "        token = response.json()['access_token']\n",
    "    else:\n",
    "        raise AssertionError('no Baidu access token')\n",
    "    url = 'https://aip.baidubce.com/rpc/2.0/mt/texttrans/v1?access_token=' + token\n",
    "\n",
    "    term_ids = ''  # 术语库id，多个逗号隔开\n",
    "\n",
    "    # Build request\n",
    "    headers = {'Content-Type': 'application/json'}\n",
    "    payload = {'q': sent, 'from': 'zh', 'to': 'en', 'termIds': term_ids}\n",
    "\n",
    "    # Send request\n",
    "    result = requests.post(url, params=payload, headers=headers).json()\n",
    "    translation = result['result']['trans_result'][0]['dst']\n",
    "    return translation"
   ]
  },
  {
   "cell_type": "code",
   "execution_count": null,
   "metadata": {
    "pycharm": {
     "name": "#%%\n"
    }
   },
   "outputs": [],
   "source": []
  },
  {
   "cell_type": "code",
   "execution_count": 4,
   "metadata": {
    "pycharm": {
     "name": "#%%\n"
    }
   },
   "outputs": [],
   "source": [
    "from sklearn.manifold import TSNE\n",
    "from sklearn.decomposition import PCA\n",
    "import pandas as pd\n",
    "import seaborn as sns\n",
    "\n",
    "def plot(qa_embeddings, cls_embeddings):\n",
    "    reduced_rep = TSNE(n_components=2).fit_transform(np.concatenate((qa_embeddings, cls_embeddings), axis=0))\n",
    "    # reduced_rep = TSNE(n_components=2).fit_transform(np.concatenate((qa_embeddings, cls_embeddings), axis=0))\n",
    "    dim1 = reduced_rep[:, 0].tolist()\n",
    "    dim2 = reduced_rep[:, 1].tolist()\n",
    "    # get DataFrame\n",
    "\n",
    "    data = {'dim1': dim1, 'dim2': dim2, 'labels': [1, 1, 6, 6, 7, 0, 1, 2, 3, 4, 5, 6], 'method': 't-SNE'}\n",
    "    data = pd.DataFrame(data)\n",
    "\n",
    "    # plot\n",
    "    g = sns.relplot(\n",
    "        data=data, x=\"dim1\", y=\"dim2\",\n",
    "        col='method', hue='labels',\n",
    "        kind=\"scatter\",\n",
    "    )"
   ]
  },
  {
   "cell_type": "markdown",
   "metadata": {},
   "source": []
  },
  {
   "cell_type": "code",
   "execution_count": 5,
   "metadata": {
    "pycharm": {
     "name": "#%%\n"
    }
   },
   "outputs": [],
   "source": [
    "# 视角平移\n",
    "VIEW_SHIFT = [\n",
    "    '向左转',\n",
    "    '转到后面',\n",
    "    '转向右边',\n",
    "    '视角转到下面',\n",
    "    '视角平移到上面',\n",
    "]\n"
   ]
  },
  {
   "cell_type": "code",
   "execution_count": 6,
   "metadata": {
    "pycharm": {
     "name": "#%%\n"
    }
   },
   "outputs": [
    {
     "name": "stdout",
     "output_type": "stream",
     "text": [
      "============== Loading Model ==============\n"
     ]
    },
    {
     "name": "stderr",
     "output_type": "stream",
     "text": [
      "Some weights of the model checkpoint at bert-base-uncased were not used when initializing BertModel: ['cls.predictions.transform.dense.bias', 'cls.predictions.transform.LayerNorm.weight', 'cls.seq_relationship.weight', 'cls.seq_relationship.bias', 'cls.predictions.transform.dense.weight', 'cls.predictions.transform.LayerNorm.bias', 'cls.predictions.decoder.weight', 'cls.predictions.bias']\n",
      "- This IS expected if you are initializing BertModel from the checkpoint of a model trained on another task or with another architecture (e.g. initializing a BertForSequenceClassification model from a BertForPreTraining model).\n",
      "- This IS NOT expected if you are initializing BertModel from the checkpoint of a model that you expect to be exactly identical (initializing a BertForSequenceClassification model from a BertForSequenceClassification model).\n"
     ]
    }
   ],
   "source": [
    "\n",
    "print('============== Loading Model ==============')\n",
    "# 下载语料库\n",
    "# HanLP = hanlp.load(hanlp.pretrained.mtl.CLOSE_TOK_POS_NER_SRL_DEP_SDP_CON_ELECTRA_SMALL_ZH)\n",
    "\n",
    "# # GloVe Model\n",
    "# word2vec_path = 'embedding/60000_glove.840B.300d.txt'\n",
    "# w2v = load_w2v(word2vec_path)\n",
    "#\n",
    "# labels = pickle.load(open('embedding/label_embedding.pkl', 'rb'))\n",
    "\n",
    "# Bert Model\n",
    "tokenizer = BertTokenizer.from_pretrained('bert-base-uncased')\n",
    "bert = BertModel.from_pretrained('bert-base-uncased')\n"
   ]
  },
  {
   "cell_type": "code",
   "execution_count": 40,
   "metadata": {
    "pycharm": {
     "name": "#%%\n"
    }
   },
   "outputs": [
    {
     "data": {
      "text/plain": [
       "{'View angle translation or pan up': 'Move or translate the position of the current view',\n",
       " 'View angle rotation or turn': 'Rotate the current view',\n",
       " 'Rotate the view around the selected object': 'Rotates the position of the camera with the selected Game Object as the center and the up vector as the axis to transform the current view , while keeping the camera view towards the Game Object',\n",
       " 'Object translation': 'Moves or translates the currently selected Game Object',\n",
       " 'Object rotates around itself': 'Rotates the currently selected Game Object',\n",
       " 'Object scaling or shrinking': 'Scales the currently selected Game Object',\n",
       " 'Object initialization or drawing': 'Initialize or create a Object and places it in the center of the current view'}"
      ]
     },
     "execution_count": 40,
     "metadata": {},
     "output_type": "execute_result"
    }
   ],
   "source": [
    "# 类别描述\n",
    "cls_desc = {\n",
    "    'View angle translation or pan up': 'Move or translate the position of the current view',\n",
    "    'View angle rotation or turn': 'Rotate the current view',\n",
    "    'Rotate the view around the selected object': 'Rotates the position of the camera with the selected Game '\n",
    "                                                  'Object as the center and the up vector as the axis to '\n",
    "                                                  'transform the current view , while keeping the camera view '\n",
    "                                                  'towards the Game Object',\n",
    "    'Object translation': 'Moves or translates the currently selected Game Object',\n",
    "    'Object rotates around itself': 'Rotates the currently selected Game Object',\n",
    "    'Object scaling or shrinking': 'Scales the currently selected Game Object',\n",
    "    'Object initialization or drawing': 'Initialize or create a Object and places it in the center of the current view'\n",
    "}\n",
    "cls_desc"
   ]
  },
  {
   "cell_type": "code",
   "execution_count": 41,
   "metadata": {
    "pycharm": {
     "name": "#%%\n"
    }
   },
   "outputs": [
    {
     "name": "stdout",
     "output_type": "stream",
     "text": [
      "============== Embedding ==============\n"
     ]
    }
   ],
   "source": [
    "\n",
    "print('============== Embedding ==============')\n",
    "# BERT list(cls_desc.keys()) [f'{k}: {v}' for k, v in cls_desc.items()]\n",
    "cls_encoder_inputs = tokenizer(list(cls_desc.keys()), padding=True, max_length=128, return_tensors='pt')\n",
    "cls_src_ids = cls_encoder_inputs['input_ids']\n",
    "cls_embeddings = bert(cls_src_ids).pooler_output.detach().numpy()\n"
   ]
  },
  {
   "cell_type": "code",
   "execution_count": 5,
   "metadata": {
    "pycharm": {
     "name": "#%%\n"
    }
   },
   "outputs": [
    {
     "data": {
      "text/plain": [
       "['Shift the viewing angle to 10 meters above',\n",
       " 'turn left',\n",
       " 'Turn 30 degrees to the left',\n",
       " 'Rotate 10 degrees around the square',\n",
       " 'Move the ball 10 meters below',\n",
       " 'The ball turns 20 degrees around itself',\n",
       " 'The triangle shrinks three times',\n",
       " 'The square is magnified five times',\n",
       " 'Draw a ball',\n",
       " 'Draw a cube',\n",
       " 'Put the ball on the cube']"
      ]
     },
     "execution_count": 5,
     "metadata": {},
     "output_type": "execute_result"
    }
   ],
   "source": [
    "\n",
    "# 示例\n",
    "zh_sentences = [\n",
    "    '视角平移到上方10米',         # 0\n",
    "    '向左转',              # 1\n",
    "    '向左转三十度',           # 1\n",
    "    '绕这个正方形旋转10度',         # 2\n",
    "    '把这个球移到下边10米',         # 3\n",
    "    '球绕自身转20度',         # 4\n",
    "    '三角缩小3倍',         # 5\n",
    "    '正方形放大5倍',         # 5\n",
    "    '画一个球',             # 6\n",
    "    '画一个正方体',          # 6\n",
    "    '把球放到正方体上面',    # 7\n",
    "]\n",
    "\n",
    "labels = [0, 1, 1, 2, 3, 4, 5, 5, 6, 6, 7]\n",
    "# 翻译\n",
    "en_sentences = [translate(sent) for sent in zh_sentences]\n",
    "en_sentences"
   ]
  },
  {
   "cell_type": "code",
   "execution_count": 35,
   "metadata": {
    "pycharm": {
     "name": "#%%\n"
    }
   },
   "outputs": [],
   "source": [
    "# Encode\n",
    "encoder_inputs = tokenizer(en_sentences, padding=True, max_length=128, return_tensors='pt')\n",
    "src_ids = encoder_inputs['input_ids']\n",
    "qa_embeddings = bert(src_ids).pooler_output.detach().numpy()\n"
   ]
  },
  {
   "cell_type": "code",
   "execution_count": 42,
   "metadata": {
    "pycharm": {
     "name": "#%%\n"
    }
   },
   "outputs": [
    {
     "name": "stdout",
     "output_type": "stream",
     "text": [
      "============== Calculating ==============\n",
      "[0, 1, 1, 2, 3, 4, 5, 5, 6, 6, 7]\n",
      "0 5 [10.787177, 6.649132, 8.298123, 9.303526, 7.676928, 10.8794, 7.1741505]\n",
      "1 1 [5.062075, 8.245573, 7.35057, 5.1877546, 7.0155625, 3.5614161, 7.3387046]\n",
      "1 0 [6.331967, 3.5217288, 5.0384927, 5.0072956, 4.0022964, 6.0577426, 3.124009]\n",
      "2 5 [6.5677633, 3.1809664, 4.1198897, 5.256631, 3.8612318, 6.902634, 3.6209843]\n",
      "3 5 [6.22111, 2.917345, 5.0363426, 5.224271, 3.440804, 6.4388785, 2.9890478]\n",
      "4 0 [4.9859867, 3.1988487, 3.3530314, 3.638092, 2.3436596, 4.914801, 3.2194612]\n",
      "5 5 [11.19339, 6.934324, 8.603414, 9.65838, 7.760285, 11.263309, 7.5425944]\n",
      "5 0 [11.952486, 7.7927403, 9.09316, 10.329334, 8.679075, 11.938218, 8.399675]\n",
      "6 1 [5.5840077, 6.141852, 5.4478927, 4.4723186, 5.2357507, 3.7815983, 5.439824]\n",
      "6 1 [4.042338, 5.844912, 5.190799, 3.1062808, 4.8135347, 2.223173, 4.978388]\n",
      "7 5 [11.539995, 7.4035954, 9.119689, 10.068905, 8.421448, 11.685634, 7.859868]\n"
     ]
    }
   ],
   "source": [
    "\n",
    "print('============== Calculating ==============')\n",
    "print(labels)\n",
    "for id, embedding in enumerate(qa_embeddings):\n",
    "    # HanLP(sentences).pretty_print()\n",
    "    # HanLP(sentences, tasks='dep').pretty_print()    # 依存句法分析\n",
    "    # HanLP(sentences, tasks='con').pretty_print()    # 成分句法分析\n",
    "    # HanLP(sentences, tasks='sdp').pretty_print()    # 语义依存分析\n",
    "    # doc = HanLP(sentences, tasks='srl')    # 语义角色标注\n",
    "\n",
    "    # srl = hanlp.load('CPB3_SRL_ELECTRA_SMALL')\n",
    "\n",
    "    # Zero-shot Spoken language understanding\n",
    "    # embedding = embed(command, w2v)\n",
    "    sim_scores = [euc_dist(embedding, v) for v in cls_embeddings]   # euc_dist cos_sim\n",
    "    print(labels[id], end=' ')\n",
    "    print(np.argmax(sim_scores), end=' ')\n",
    "    print(sim_scores)"
   ]
  },
  {
   "cell_type": "code",
   "execution_count": 37,
   "metadata": {
    "pycharm": {
     "name": "#%%\n"
    }
   },
   "outputs": [
    {
     "data": {
      "text/plain": [
       "['视角平移到上方10米',\n",
       " '向左转',\n",
       " '向左转三十度',\n",
       " '绕这个正方形旋转10度',\n",
       " '把这个球移到下边10米',\n",
       " '球绕自身转20度',\n",
       " '三角缩小3倍',\n",
       " '正方形放大5倍',\n",
       " '画一个球',\n",
       " '画一个正方体',\n",
       " '把球放到正方体上面']"
      ]
     },
     "execution_count": 37,
     "metadata": {},
     "output_type": "execute_result"
    }
   ],
   "source": [
    "zh_sentences"
   ]
  },
  {
   "cell_type": "code",
   "execution_count": 38,
   "metadata": {
    "pycharm": {
     "name": "#%%\n"
    }
   },
   "outputs": [
    {
     "data": {
      "text/plain": [
       "['Pan up to 10 meters',\n",
       " 'turn left',\n",
       " 'Turn 30 degrees to the left',\n",
       " 'Rotate 10 degrees around the square',\n",
       " 'Move the ball 10 meters below',\n",
       " 'The ball turns 20 degrees around itself',\n",
       " 'The triangle shrinks three times',\n",
       " 'The square is magnified five times',\n",
       " 'Draw a ball',\n",
       " 'Draw a cube',\n",
       " 'Put the ball on the cube']"
      ]
     },
     "execution_count": 38,
     "metadata": {},
     "output_type": "execute_result"
    }
   ],
   "source": [
    "en_sentences"
   ]
  },
  {
   "cell_type": "code",
   "execution_count": 43,
   "metadata": {
    "pycharm": {
     "name": "#%%\n"
    }
   },
   "outputs": [
    {
     "data": {
      "text/plain": [
       "['View angle translation or pan up',\n",
       " 'View angle rotation or turn',\n",
       " 'Rotate the view around the selected object',\n",
       " 'Object translation',\n",
       " 'Object rotates around itself',\n",
       " 'Object scaling or shrinking',\n",
       " 'Object initialization or drawing']"
      ]
     },
     "execution_count": 43,
     "metadata": {},
     "output_type": "execute_result"
    }
   ],
   "source": [
    "list(cls_desc.keys())"
   ]
  },
  {
   "cell_type": "code",
   "execution_count": null,
   "metadata": {
    "pycharm": {
     "name": "#%%\n"
    }
   },
   "outputs": [],
   "source": []
  },
  {
   "cell_type": "code",
   "execution_count": 14,
   "metadata": {
    "pycharm": {
     "name": "#%%\n"
    }
   },
   "outputs": [],
   "source": [
    "# prep_sents = [\n",
    "#         'There is a cube on the left of another cube.',\n",
    "#         'There is a sphere under a cube.',\n",
    "#         'There are some columns in front of a cube.',\n",
    "#         'I want two cubes behind three desks.'\n",
    "#     ]\n",
    "prep_sents = ['There is a bird flying above the sea.',\n",
    " 'There is a radio on the table.',\n",
    " 'I see a boat on the river.',\n",
    " 'There is a big diamond in the sky.',\n",
    " 'There are two trees in the field.',\n",
    " 'There are two trees in front of the flower.']"
   ]
  },
  {
   "cell_type": "code",
   "execution_count": 1,
   "metadata": {
    "pycharm": {
     "name": "#%%\n"
    }
   },
   "outputs": [
    {
     "name": "stderr",
     "output_type": "stream",
     "text": [
      "                                   \r"
     ]
    }
   ],
   "source": [
    "import hanlp\n",
    "HanLP = hanlp.load(hanlp.pretrained.mtl.CLOSE_TOK_POS_NER_SRL_DEP_SDP_CON_ELECTRA_SMALL_ZH)"
   ]
  },
  {
   "cell_type": "code",
   "execution_count": 15,
   "metadata": {
    "pycharm": {
     "name": "#%%\n"
    }
   },
   "outputs": [],
   "source": [
    "\n",
    "doc = HanLP(prep_sents, tasks='pos')    # 依存句法分析\n",
    "# doc = HanLP(prep_sents, tasks='dep')   # 依存句法分析\n",
    "# HanLP(prep_sents, tasks='dep')"
   ]
  },
  {
   "cell_type": "code",
   "execution_count": 16,
   "metadata": {},
   "outputs": [
    {
     "data": {
      "text/plain": [
       "{'tok/fine': [['There',\n",
       "   'is',\n",
       "   'a',\n",
       "   'bird',\n",
       "   'flying',\n",
       "   'above',\n",
       "   'the',\n",
       "   'sea',\n",
       "   '.'],\n",
       "  ['There', 'is', 'a', 'radio', 'on', 'the', 'table', '.'],\n",
       "  ['I', 'see', 'a', 'boat', 'on', 'the', 'river', '.'],\n",
       "  ['There', 'is', 'a', 'big', 'diamond', 'in', 'the', 'sky', '.'],\n",
       "  ['There', 'are', 'two', 'trees', 'in', 'the', 'field', '.'],\n",
       "  ['There', 'are', 'two', 'trees', 'in', 'front', 'of', 'the', 'flower', '.']],\n",
       " 'pos/ctb': [['PN', 'VC', 'CD', 'NN', 'NN', 'JJ', 'DT', 'NR', 'PU'],\n",
       "  ['PN', 'VC', 'CD', 'NN', 'P', 'DT', 'NR', 'PU'],\n",
       "  ['PN', 'VV', 'CD', 'VA', 'P', 'DT', 'NN', 'PU'],\n",
       "  ['PN', 'VC', 'CD', 'JJ', 'NN', 'P', 'DT', 'NR', 'PU'],\n",
       "  ['PN', 'VC', 'CD', 'NN', 'P', 'DT', 'NN', 'PU'],\n",
       "  ['PN', 'VC', 'CD', 'NN', 'P', 'JJ', 'P', 'DT', 'NN', 'PU']]}"
      ]
     },
     "execution_count": 16,
     "metadata": {},
     "output_type": "execute_result"
    }
   ],
   "source": [
    "doc"
   ]
  },
  {
   "cell_type": "code",
   "execution_count": 17,
   "metadata": {},
   "outputs": [],
   "source": [
    "tokens = doc['tok/fine']\n",
    "tags = doc['pos/ctb']"
   ]
  },
  {
   "cell_type": "code",
   "execution_count": 18,
   "metadata": {},
   "outputs": [
    {
     "name": "stdout",
     "output_type": "stream",
     "text": [
      "There is a bird flying above the sea. ['There', 'is', 'a', 'bird', 'flying', 'above', 'the', 'sea', '.'] ['PN', 'VC', 'CD', 'NN', 'NN', 'JJ', 'DT', 'NR', 'PU']\n",
      "There is a radio on the table. ['There', 'is', 'a', 'radio', 'on', 'the', 'table', '.'] ['PN', 'VC', 'CD', 'NN', 'P', 'DT', 'NR', 'PU']\n",
      "4\n",
      "I see a boat on the river. ['I', 'see', 'a', 'boat', 'on', 'the', 'river', '.'] ['PN', 'VV', 'CD', 'VA', 'P', 'DT', 'NN', 'PU']\n",
      "4\n",
      "There is a big diamond in the sky. ['There', 'is', 'a', 'big', 'diamond', 'in', 'the', 'sky', '.'] ['PN', 'VC', 'CD', 'JJ', 'NN', 'P', 'DT', 'NR', 'PU']\n",
      "5\n",
      "There are two trees in the field. ['There', 'are', 'two', 'trees', 'in', 'the', 'field', '.'] ['PN', 'VC', 'CD', 'NN', 'P', 'DT', 'NN', 'PU']\n",
      "4\n",
      "There are two trees in front of the flower. ['There', 'are', 'two', 'trees', 'in', 'front', 'of', 'the', 'flower', '.'] ['PN', 'VC', 'CD', 'NN', 'P', 'JJ', 'P', 'DT', 'NN', 'PU']\n",
      "4\n"
     ]
    }
   ],
   "source": [
    "for i, sent in enumerate(prep_sents):\n",
    "    token = tokens[i]\n",
    "    tag = tags[i]\n",
    "    print(sent, token, tag)\n",
    "    if 'P' in tag:\n",
    "        print(tag.index('P'))"
   ]
  },
  {
   "cell_type": "code",
   "execution_count": null,
   "metadata": {},
   "outputs": [],
   "source": []
  },
  {
   "cell_type": "code",
   "execution_count": null,
   "metadata": {},
   "outputs": [],
   "source": []
  },
  {
   "cell_type": "code",
   "execution_count": null,
   "metadata": {},
   "outputs": [],
   "source": []
  },
  {
   "cell_type": "code",
   "execution_count": null,
   "metadata": {},
   "outputs": [],
   "source": []
  },
  {
   "cell_type": "code",
   "execution_count": null,
   "metadata": {},
   "outputs": [],
   "source": []
  },
  {
   "cell_type": "code",
   "execution_count": null,
   "metadata": {},
   "outputs": [],
   "source": []
  },
  {
   "cell_type": "code",
   "execution_count": null,
   "metadata": {},
   "outputs": [],
   "source": []
  },
  {
   "cell_type": "code",
   "execution_count": 27,
   "metadata": {
    "pycharm": {
     "name": "#%%\n"
    }
   },
   "outputs": [
    {
     "name": "stdout",
     "output_type": "stream",
     "text": [
      "['There', 'is', 'a', 'cube', 'on', 'the', 'left', 'of', 'another', 'cube', '.']\n",
      "[(2, 'top'), (0, 'root'), (4, 'nummod'), (2, 'attr'), (2, 'prep'), (7, 'det'), (8, 'pobj'), (5, 'conj'), (10, 'amod'), (8, 'pobj'), (2, 'punct')]\n"
     ]
    }
   ],
   "source": [
    "exp1_dep = doc['dep'][0]\n",
    "exp1_sent = doc['tok/fine'][0]\n",
    "print(exp1_sent)\n",
    "print(exp1_dep)"
   ]
  },
  {
   "cell_type": "code",
   "execution_count": 24,
   "metadata": {
    "pycharm": {
     "name": "#%%\n"
    }
   },
   "outputs": [
    {
     "name": "stdout",
     "output_type": "stream",
     "text": [
      "prep\n",
      "on\n"
     ]
    }
   ],
   "source": [
    "for idx, trip in enumerate(exp1_dep):\n",
    "    tp = trip[1]\n",
    "    if tp == 'prep':\n",
    "        print(tp)\n",
    "        print(exp1_sent[idx])"
   ]
  },
  {
   "cell_type": "code",
   "execution_count": 29,
   "metadata": {
    "pycharm": {
     "name": "#%%\n"
    }
   },
   "outputs": [],
   "source": []
  },
  {
   "cell_type": "code",
   "execution_count": 30,
   "metadata": {
    "pycharm": {
     "name": "#%%\n"
    }
   },
   "outputs": [],
   "source": []
  },
  {
   "cell_type": "code",
   "execution_count": null,
   "metadata": {
    "pycharm": {
     "name": "#%%\n"
    }
   },
   "outputs": [],
   "source": []
  },
  {
   "cell_type": "code",
   "execution_count": null,
   "metadata": {
    "pycharm": {
     "name": "#%%\n"
    }
   },
   "outputs": [],
   "source": []
  },
  {
   "cell_type": "code",
   "execution_count": null,
   "metadata": {
    "pycharm": {
     "name": "#%%\n"
    }
   },
   "outputs": [],
   "source": []
  },
  {
   "cell_type": "code",
   "execution_count": null,
   "metadata": {
    "pycharm": {
     "name": "#%%\n"
    }
   },
   "outputs": [],
   "source": []
  },
  {
   "cell_type": "code",
   "execution_count": null,
   "metadata": {
    "pycharm": {
     "name": "#%%\n"
    }
   },
   "outputs": [],
   "source": []
  },
  {
   "cell_type": "code",
   "execution_count": 12,
   "metadata": {
    "pycharm": {
     "name": "#%%\n"
    }
   },
   "outputs": [
    {
     "data": {
      "text/html": [
       "<div style=\"display: table; line-height: 128%;\"><pre style=\"display: table-cell; font-family: SFMono-Regular,Menlo,Monaco,Consolas,Liberation Mono,Courier New,monospace; white-space: nowrap;\">Token&nbsp;&nbsp;&nbsp;<br>───────&nbsp;<br>There&nbsp;&nbsp;&nbsp;<br>is&nbsp;&nbsp;&nbsp;&nbsp;&nbsp;&nbsp;<br>a&nbsp;&nbsp;&nbsp;&nbsp;&nbsp;&nbsp;&nbsp;<br>cube&nbsp;&nbsp;&nbsp;&nbsp;<br>on&nbsp;&nbsp;&nbsp;&nbsp;&nbsp;&nbsp;<br>the&nbsp;&nbsp;&nbsp;&nbsp;&nbsp;<br>left&nbsp;&nbsp;&nbsp;&nbsp;<br>of&nbsp;&nbsp;&nbsp;&nbsp;&nbsp;&nbsp;<br>another&nbsp;<br>cube&nbsp;&nbsp;&nbsp;&nbsp;<br>.&nbsp;&nbsp;&nbsp;&nbsp;&nbsp;&nbsp;&nbsp;</pre><pre style=\"display: table-cell; font-family: SFMono-Regular,Menlo,Monaco,Consolas,Liberation Mono,Courier New,monospace; white-space: nowrap;\">P&nbsp;&nbsp;&nbsp;&nbsp;3&nbsp;&nbsp;&nbsp;&nbsp;&nbsp;&nbsp;&nbsp;4&nbsp;&nbsp;&nbsp;&nbsp;&nbsp;&nbsp;&nbsp;5&nbsp;&nbsp;&nbsp;&nbsp;&nbsp;&nbsp;&nbsp;6&nbsp;&nbsp;&nbsp;&nbsp;&nbsp;&nbsp;&nbsp;7&nbsp;&nbsp;&nbsp;&nbsp;&nbsp;&nbsp;&nbsp;8&nbsp;&nbsp;&nbsp;&nbsp;&nbsp;&nbsp;&nbsp;9&nbsp;&nbsp;&nbsp;&nbsp;&nbsp;&nbsp;&nbsp;10<br>───────────────────────────────────────────────────────────────<br>_───────────────────────────────────────────────────►NP&nbsp;───┐&nbsp;&nbsp;&nbsp;<br>_──────────────────┐&nbsp;&nbsp;&nbsp;&nbsp;&nbsp;&nbsp;&nbsp;&nbsp;&nbsp;&nbsp;&nbsp;&nbsp;&nbsp;&nbsp;&nbsp;&nbsp;&nbsp;&nbsp;&nbsp;&nbsp;&nbsp;&nbsp;&nbsp;&nbsp;&nbsp;&nbsp;&nbsp;&nbsp;&nbsp;&nbsp;&nbsp;&nbsp;&nbsp;&nbsp;&nbsp;&nbsp;&nbsp;&nbsp;&nbsp;│&nbsp;&nbsp;&nbsp;<br>_───►QP&nbsp;───┐&nbsp;&nbsp;&nbsp;&nbsp;&nbsp;&nbsp;&nbsp;├────────────────────────►VP&nbsp;───┐&nbsp;&nbsp;&nbsp;&nbsp;&nbsp;&nbsp;&nbsp;│&nbsp;&nbsp;&nbsp;<br>_───►NP&nbsp;───┴►NP&nbsp;───┘&nbsp;&nbsp;&nbsp;&nbsp;&nbsp;&nbsp;&nbsp;&nbsp;&nbsp;&nbsp;&nbsp;&nbsp;&nbsp;&nbsp;&nbsp;&nbsp;&nbsp;&nbsp;&nbsp;&nbsp;&nbsp;&nbsp;&nbsp;&nbsp;&nbsp;&nbsp;&nbsp;&nbsp;&nbsp;&nbsp;&nbsp;│&nbsp;&nbsp;&nbsp;&nbsp;&nbsp;&nbsp;&nbsp;│&nbsp;&nbsp;&nbsp;<br>_──────────────────────────────────┐&nbsp;&nbsp;&nbsp;&nbsp;&nbsp;&nbsp;&nbsp;&nbsp;&nbsp;&nbsp;&nbsp;&nbsp;&nbsp;&nbsp;&nbsp;├►VP────┤&nbsp;&nbsp;&nbsp;<br>_───►DP&nbsp;───┐&nbsp;&nbsp;&nbsp;&nbsp;&nbsp;&nbsp;&nbsp;&nbsp;&nbsp;&nbsp;&nbsp;&nbsp;&nbsp;&nbsp;&nbsp;&nbsp;&nbsp;&nbsp;&nbsp;&nbsp;&nbsp;&nbsp;&nbsp;│&nbsp;&nbsp;&nbsp;&nbsp;&nbsp;&nbsp;&nbsp;&nbsp;&nbsp;&nbsp;&nbsp;&nbsp;&nbsp;&nbsp;&nbsp;│&nbsp;&nbsp;&nbsp;&nbsp;&nbsp;&nbsp;&nbsp;├►IP<br>_───►NP&nbsp;───┴────────►NP&nbsp;───┐&nbsp;&nbsp;&nbsp;&nbsp;&nbsp;&nbsp;&nbsp;├►PP&nbsp;────►VP&nbsp;───┘&nbsp;&nbsp;&nbsp;&nbsp;&nbsp;&nbsp;&nbsp;│&nbsp;&nbsp;&nbsp;<br>_──────────────────┐&nbsp;&nbsp;&nbsp;&nbsp;&nbsp;&nbsp;&nbsp;├►NP&nbsp;───┘&nbsp;&nbsp;&nbsp;&nbsp;&nbsp;&nbsp;&nbsp;&nbsp;&nbsp;&nbsp;&nbsp;&nbsp;&nbsp;&nbsp;&nbsp;&nbsp;&nbsp;&nbsp;&nbsp;&nbsp;&nbsp;&nbsp;&nbsp;│&nbsp;&nbsp;&nbsp;<br>_───►ADJP──┐&nbsp;&nbsp;&nbsp;&nbsp;&nbsp;&nbsp;&nbsp;├►PP&nbsp;───┘&nbsp;&nbsp;&nbsp;&nbsp;&nbsp;&nbsp;&nbsp;&nbsp;&nbsp;&nbsp;&nbsp;&nbsp;&nbsp;&nbsp;&nbsp;&nbsp;&nbsp;&nbsp;&nbsp;&nbsp;&nbsp;&nbsp;&nbsp;&nbsp;&nbsp;&nbsp;&nbsp;&nbsp;&nbsp;&nbsp;&nbsp;│&nbsp;&nbsp;&nbsp;<br>_───►NP&nbsp;───┴►NP&nbsp;───┘&nbsp;&nbsp;&nbsp;&nbsp;&nbsp;&nbsp;&nbsp;&nbsp;&nbsp;&nbsp;&nbsp;&nbsp;&nbsp;&nbsp;&nbsp;&nbsp;&nbsp;&nbsp;&nbsp;&nbsp;&nbsp;&nbsp;&nbsp;&nbsp;&nbsp;&nbsp;&nbsp;&nbsp;&nbsp;&nbsp;&nbsp;&nbsp;&nbsp;&nbsp;&nbsp;&nbsp;&nbsp;&nbsp;&nbsp;│&nbsp;&nbsp;&nbsp;<br>_──────────────────────────────────────────────────────────┘&nbsp;&nbsp;&nbsp;</pre></div><br><div style=\"display: table; line-height: 128%;\"><pre style=\"display: table-cell; font-family: SFMono-Regular,Menlo,Monaco,Consolas,Liberation Mono,Courier New,monospace; white-space: nowrap;\">Token&nbsp;&nbsp;<br>──────&nbsp;<br>There&nbsp;&nbsp;<br>is&nbsp;&nbsp;&nbsp;&nbsp;&nbsp;<br>a&nbsp;&nbsp;&nbsp;&nbsp;&nbsp;&nbsp;<br>sphere&nbsp;<br>under&nbsp;&nbsp;<br>a&nbsp;&nbsp;&nbsp;&nbsp;&nbsp;&nbsp;<br>cube&nbsp;&nbsp;&nbsp;<br>.&nbsp;&nbsp;&nbsp;&nbsp;&nbsp;&nbsp;</pre><pre style=\"display: table-cell; font-family: SFMono-Regular,Menlo,Monaco,Consolas,Liberation Mono,Courier New,monospace; white-space: nowrap;\">P&nbsp;&nbsp;&nbsp;&nbsp;3&nbsp;&nbsp;&nbsp;&nbsp;&nbsp;&nbsp;&nbsp;4&nbsp;&nbsp;&nbsp;&nbsp;&nbsp;&nbsp;&nbsp;5&nbsp;&nbsp;&nbsp;&nbsp;&nbsp;&nbsp;&nbsp;6&nbsp;&nbsp;&nbsp;&nbsp;&nbsp;&nbsp;&nbsp;7&nbsp;<br>───────────────────────────────────────<br>_───────────────────────────►NP&nbsp;───┐&nbsp;&nbsp;&nbsp;<br>_──────────────────────────┐&nbsp;&nbsp;&nbsp;&nbsp;&nbsp;&nbsp;&nbsp;│&nbsp;&nbsp;&nbsp;<br>_───────────►QP&nbsp;───┐&nbsp;&nbsp;&nbsp;&nbsp;&nbsp;&nbsp;&nbsp;│&nbsp;&nbsp;&nbsp;&nbsp;&nbsp;&nbsp;&nbsp;│&nbsp;&nbsp;&nbsp;<br>_───────────►NP────┤&nbsp;&nbsp;&nbsp;&nbsp;&nbsp;&nbsp;&nbsp;├►VP────┤&nbsp;&nbsp;&nbsp;<br>_──────────┐&nbsp;&nbsp;&nbsp;&nbsp;&nbsp;&nbsp;&nbsp;├►NP&nbsp;───┘&nbsp;&nbsp;&nbsp;&nbsp;&nbsp;&nbsp;&nbsp;├►IP<br>_───►QP&nbsp;───┴►QP────┤&nbsp;&nbsp;&nbsp;&nbsp;&nbsp;&nbsp;&nbsp;&nbsp;&nbsp;&nbsp;&nbsp;&nbsp;&nbsp;&nbsp;&nbsp;│&nbsp;&nbsp;&nbsp;<br>_───────────►NP&nbsp;───┘&nbsp;&nbsp;&nbsp;&nbsp;&nbsp;&nbsp;&nbsp;&nbsp;&nbsp;&nbsp;&nbsp;&nbsp;&nbsp;&nbsp;&nbsp;│&nbsp;&nbsp;&nbsp;<br>_──────────────────────────────────┘&nbsp;&nbsp;&nbsp;</pre></div><br><div style=\"display: table; line-height: 128%;\"><pre style=\"display: table-cell; font-family: SFMono-Regular,Menlo,Monaco,Consolas,Liberation Mono,Courier New,monospace; white-space: nowrap;\">Token&nbsp;&nbsp;&nbsp;<br>───────&nbsp;<br>There&nbsp;&nbsp;&nbsp;<br>are&nbsp;&nbsp;&nbsp;&nbsp;&nbsp;<br>some&nbsp;&nbsp;&nbsp;&nbsp;<br>columns&nbsp;<br>in&nbsp;&nbsp;&nbsp;&nbsp;&nbsp;&nbsp;<br>front&nbsp;&nbsp;&nbsp;<br>of&nbsp;&nbsp;&nbsp;&nbsp;&nbsp;&nbsp;<br>a&nbsp;&nbsp;&nbsp;&nbsp;&nbsp;&nbsp;&nbsp;<br>cube&nbsp;&nbsp;&nbsp;&nbsp;<br>.&nbsp;&nbsp;&nbsp;&nbsp;&nbsp;&nbsp;&nbsp;</pre><pre style=\"display: table-cell; font-family: SFMono-Regular,Menlo,Monaco,Consolas,Liberation Mono,Courier New,monospace; white-space: nowrap;\">P&nbsp;&nbsp;&nbsp;&nbsp;3&nbsp;&nbsp;&nbsp;&nbsp;&nbsp;&nbsp;&nbsp;4&nbsp;&nbsp;&nbsp;&nbsp;&nbsp;&nbsp;&nbsp;5&nbsp;&nbsp;&nbsp;&nbsp;&nbsp;&nbsp;&nbsp;6&nbsp;&nbsp;&nbsp;&nbsp;&nbsp;&nbsp;&nbsp;7&nbsp;&nbsp;&nbsp;&nbsp;&nbsp;&nbsp;&nbsp;8&nbsp;&nbsp;&nbsp;&nbsp;&nbsp;&nbsp;&nbsp;9&nbsp;&nbsp;&nbsp;&nbsp;&nbsp;&nbsp;&nbsp;10<br>───────────────────────────────────────────────────────────────<br>_───────────────────────────────────────────────────►NP&nbsp;───┐&nbsp;&nbsp;&nbsp;<br>_──────────────────────────────────────────────────┐&nbsp;&nbsp;&nbsp;&nbsp;&nbsp;&nbsp;&nbsp;│&nbsp;&nbsp;&nbsp;<br>_───────────────────────────────────►NP&nbsp;───┐&nbsp;&nbsp;&nbsp;&nbsp;&nbsp;&nbsp;&nbsp;│&nbsp;&nbsp;&nbsp;&nbsp;&nbsp;&nbsp;&nbsp;│&nbsp;&nbsp;&nbsp;<br>_───────────────────────────►NP&nbsp;───┐&nbsp;&nbsp;&nbsp;&nbsp;&nbsp;&nbsp;&nbsp;│&nbsp;&nbsp;&nbsp;&nbsp;&nbsp;&nbsp;&nbsp;├►VP────┤&nbsp;&nbsp;&nbsp;<br>_──────────┐&nbsp;&nbsp;&nbsp;&nbsp;&nbsp;&nbsp;&nbsp;&nbsp;&nbsp;&nbsp;&nbsp;&nbsp;&nbsp;&nbsp;&nbsp;&nbsp;&nbsp;&nbsp;&nbsp;&nbsp;&nbsp;&nbsp;&nbsp;│&nbsp;&nbsp;&nbsp;&nbsp;&nbsp;&nbsp;&nbsp;├►NP&nbsp;───┘&nbsp;&nbsp;&nbsp;&nbsp;&nbsp;&nbsp;&nbsp;│&nbsp;&nbsp;&nbsp;<br>_───►NP&nbsp;───┴────────►PP&nbsp;───┐&nbsp;&nbsp;&nbsp;&nbsp;&nbsp;&nbsp;&nbsp;├►NP&nbsp;───┘&nbsp;&nbsp;&nbsp;&nbsp;&nbsp;&nbsp;&nbsp;&nbsp;&nbsp;&nbsp;&nbsp;&nbsp;&nbsp;&nbsp;&nbsp;├►IP<br>_──────────────────┐&nbsp;&nbsp;&nbsp;&nbsp;&nbsp;&nbsp;&nbsp;├►PP&nbsp;───┘&nbsp;&nbsp;&nbsp;&nbsp;&nbsp;&nbsp;&nbsp;&nbsp;&nbsp;&nbsp;&nbsp;&nbsp;&nbsp;&nbsp;&nbsp;&nbsp;&nbsp;&nbsp;&nbsp;&nbsp;&nbsp;&nbsp;&nbsp;│&nbsp;&nbsp;&nbsp;<br>_───►QP&nbsp;───┐&nbsp;&nbsp;&nbsp;&nbsp;&nbsp;&nbsp;&nbsp;├►PP&nbsp;───┘&nbsp;&nbsp;&nbsp;&nbsp;&nbsp;&nbsp;&nbsp;&nbsp;&nbsp;&nbsp;&nbsp;&nbsp;&nbsp;&nbsp;&nbsp;&nbsp;&nbsp;&nbsp;&nbsp;&nbsp;&nbsp;&nbsp;&nbsp;&nbsp;&nbsp;&nbsp;&nbsp;&nbsp;&nbsp;&nbsp;&nbsp;│&nbsp;&nbsp;&nbsp;<br>_───►NP&nbsp;───┴►NP&nbsp;───┘&nbsp;&nbsp;&nbsp;&nbsp;&nbsp;&nbsp;&nbsp;&nbsp;&nbsp;&nbsp;&nbsp;&nbsp;&nbsp;&nbsp;&nbsp;&nbsp;&nbsp;&nbsp;&nbsp;&nbsp;&nbsp;&nbsp;&nbsp;&nbsp;&nbsp;&nbsp;&nbsp;&nbsp;&nbsp;&nbsp;&nbsp;&nbsp;&nbsp;&nbsp;&nbsp;&nbsp;&nbsp;&nbsp;&nbsp;│&nbsp;&nbsp;&nbsp;<br>_──────────────────────────────────────────────────────────┘&nbsp;&nbsp;&nbsp;</pre></div><br><div style=\"display: table; line-height: 128%;\"><pre style=\"display: table-cell; font-family: SFMono-Regular,Menlo,Monaco,Consolas,Liberation Mono,Courier New,monospace; white-space: nowrap;\">Token&nbsp;&nbsp;<br>──────&nbsp;<br>I&nbsp;&nbsp;&nbsp;&nbsp;&nbsp;&nbsp;<br>want&nbsp;&nbsp;&nbsp;<br>two&nbsp;&nbsp;&nbsp;&nbsp;<br>cubes&nbsp;&nbsp;<br>behind&nbsp;<br>three&nbsp;&nbsp;<br>desks&nbsp;&nbsp;<br>.&nbsp;&nbsp;&nbsp;&nbsp;&nbsp;&nbsp;</pre><pre style=\"display: table-cell; font-family: SFMono-Regular,Menlo,Monaco,Consolas,Liberation Mono,Courier New,monospace; white-space: nowrap;\">P&nbsp;&nbsp;&nbsp;&nbsp;3&nbsp;&nbsp;&nbsp;&nbsp;&nbsp;&nbsp;&nbsp;4&nbsp;&nbsp;&nbsp;&nbsp;&nbsp;&nbsp;&nbsp;5&nbsp;&nbsp;&nbsp;&nbsp;&nbsp;&nbsp;&nbsp;6&nbsp;&nbsp;&nbsp;&nbsp;&nbsp;&nbsp;&nbsp;7&nbsp;<br>───────────────────────────────────────<br>_───────────────────────────►NP&nbsp;───┐&nbsp;&nbsp;&nbsp;<br>_──────────────────────────┐&nbsp;&nbsp;&nbsp;&nbsp;&nbsp;&nbsp;&nbsp;│&nbsp;&nbsp;&nbsp;<br>_───►QP&nbsp;───┐&nbsp;&nbsp;&nbsp;&nbsp;&nbsp;&nbsp;&nbsp;&nbsp;&nbsp;&nbsp;&nbsp;&nbsp;&nbsp;&nbsp;&nbsp;│&nbsp;&nbsp;&nbsp;&nbsp;&nbsp;&nbsp;&nbsp;│&nbsp;&nbsp;&nbsp;<br>_───►NP&nbsp;───┴►NP&nbsp;───┐&nbsp;&nbsp;&nbsp;&nbsp;&nbsp;&nbsp;&nbsp;├►VP────┤&nbsp;&nbsp;&nbsp;<br>_───────────►ADJP──┤&nbsp;&nbsp;&nbsp;&nbsp;&nbsp;&nbsp;&nbsp;│&nbsp;&nbsp;&nbsp;&nbsp;&nbsp;&nbsp;&nbsp;├►IP<br>_───────────►ADJP──┼►NP&nbsp;───┘&nbsp;&nbsp;&nbsp;&nbsp;&nbsp;&nbsp;&nbsp;│&nbsp;&nbsp;&nbsp;<br>_───────────►NP&nbsp;───┘&nbsp;&nbsp;&nbsp;&nbsp;&nbsp;&nbsp;&nbsp;&nbsp;&nbsp;&nbsp;&nbsp;&nbsp;&nbsp;&nbsp;&nbsp;│&nbsp;&nbsp;&nbsp;<br>_──────────────────────────────────┘&nbsp;&nbsp;&nbsp;</pre></div>"
      ],
      "text/plain": [
       "<IPython.core.display.HTML object>"
      ]
     },
     "metadata": {},
     "output_type": "display_data"
    }
   ],
   "source": [
    "\n",
    "HanLP(prep_sents, tasks='con').pretty_print()    # 成分句法分析"
   ]
  },
  {
   "cell_type": "code",
   "execution_count": 14,
   "metadata": {
    "pycharm": {
     "name": "#%%\n"
    }
   },
   "outputs": [
    {
     "data": {
      "text/html": [
       "<div style=\"display: table; line-height: 128%;\"><pre style=\"display: table-cell; font-family: SFMono-Regular,Menlo,Monaco,Consolas,Liberation Mono,Courier New,monospace; white-space: nowrap;\">There/[(2,&nbsp;'Exp')]&nbsp;is/[(0,&nbsp;'Root')]&nbsp;a/[(4,&nbsp;'Desc')]&nbsp;cube/[(2,&nbsp;'Clas')]&nbsp;on/[(2,&nbsp;'eSucc')]&nbsp;the/[(7,&nbsp;'mPrep')]&nbsp;left/[(10,&nbsp;'Desc')]&nbsp;of/[(10,&nbsp;'mPrep')]&nbsp;another/[(10,&nbsp;'Desc')]&nbsp;cube/[(5,&nbsp;'Datv')]&nbsp;./[(2,&nbsp;'mPunc')]</pre></div><br><div style=\"display: table; line-height: 128%;\"><pre style=\"display: table-cell; font-family: SFMono-Regular,Menlo,Monaco,Consolas,Liberation Mono,Courier New,monospace; white-space: nowrap;\">There/[(2,&nbsp;'Exp')]&nbsp;is/[(1,&nbsp;'mMod')]&nbsp;a/[(4,&nbsp;'Quan')]&nbsp;sphere/[(7,&nbsp;'Nmod')]&nbsp;under/[(7,&nbsp;'Qp')]&nbsp;a/[(7,&nbsp;'Qp')]&nbsp;cube/[(4,&nbsp;'Datv')]&nbsp;./[(0,&nbsp;'Root')]</pre></div><br><div style=\"display: table; line-height: 128%;\"><pre style=\"display: table-cell; font-family: SFMono-Regular,Menlo,Monaco,Consolas,Liberation Mono,Courier New,monospace; white-space: nowrap;\">There/[(2,&nbsp;'Exp')]&nbsp;are/[(0,&nbsp;'Root')]&nbsp;some/[(4,&nbsp;'mMod')]&nbsp;columns/[(2,&nbsp;'Clas')]&nbsp;in/[(6,&nbsp;'mPrep')]&nbsp;front/[(9,&nbsp;'Desc')]&nbsp;of/[(6,&nbsp;'mPrep'),&nbsp;(9,&nbsp;'mPrep')]&nbsp;a/[(9,&nbsp;'Desc')]&nbsp;cube/[(2,&nbsp;'Clas')]&nbsp;./[(2,&nbsp;'mPunc')]</pre></div><br><div style=\"display: table; line-height: 128%;\"><pre style=\"display: table-cell; font-family: SFMono-Regular,Menlo,Monaco,Consolas,Liberation Mono,Courier New,monospace; white-space: nowrap;\">I/[(2,&nbsp;'Aft')]&nbsp;want/[(4,&nbsp;'mMod')]&nbsp;two/[(4,&nbsp;'Quan')]&nbsp;cubes/[(7,&nbsp;'Desc')]&nbsp;behind/[(7,&nbsp;'Nmod')]&nbsp;three/[(7,&nbsp;'Desc')]&nbsp;desks/[(2,&nbsp;'Cont')]&nbsp;./[(0,&nbsp;'Root'),&nbsp;(2,&nbsp;'mPunc')]</pre></div>"
      ],
      "text/plain": [
       "<IPython.core.display.HTML object>"
      ]
     },
     "metadata": {},
     "output_type": "display_data"
    }
   ],
   "source": [
    "\n",
    "HanLP(prep_sents, tasks='sdp').pretty_print()    # 语义依存分析"
   ]
  },
  {
   "cell_type": "code",
   "execution_count": 15,
   "metadata": {
    "pycharm": {
     "name": "#%%\n"
    }
   },
   "outputs": [
    {
     "data": {
      "text/plain": [
       "{'tok/fine': [['There',\n",
       "   'is',\n",
       "   'a',\n",
       "   'cube',\n",
       "   'on',\n",
       "   'the',\n",
       "   'left',\n",
       "   'of',\n",
       "   'another',\n",
       "   'cube',\n",
       "   '.'],\n",
       "  ['There', 'is', 'a', 'sphere', 'under', 'a', 'cube', '.'],\n",
       "  ['There', 'are', 'some', 'columns', 'in', 'front', 'of', 'a', 'cube', '.'],\n",
       "  ['I', 'want', 'two', 'cubes', 'behind', 'three', 'desks', '.']],\n",
       " 'srl': [[[('There', 'ARG0', 0, 1), ('is', 'PRED', 1, 2)]],\n",
       "  [],\n",
       "  [[('There', 'ARG0', 0, 1), ('are', 'PRED', 1, 2)]],\n",
       "  [[('I', 'ARG0', 0, 1),\n",
       "    ('want', 'PRED', 1, 2),\n",
       "    ('twocubesbehindthreedesks', 'ARG1', 2, 7)]]]}"
      ]
     },
     "execution_count": 15,
     "metadata": {},
     "output_type": "execute_result"
    }
   ],
   "source": [
    "\n",
    "HanLP(prep_sents, tasks='srl')    # 语义角色标注"
   ]
  },
  {
   "cell_type": "code",
   "execution_count": null,
   "metadata": {
    "pycharm": {
     "name": "#%%\n"
    }
   },
   "outputs": [],
   "source": []
  },
  {
   "cell_type": "code",
   "execution_count": null,
   "metadata": {
    "pycharm": {
     "name": "#%%\n"
    }
   },
   "outputs": [],
   "source": []
  },
  {
   "cell_type": "code",
   "execution_count": null,
   "metadata": {
    "pycharm": {
     "name": "#%%\n"
    }
   },
   "outputs": [],
   "source": []
  },
  {
   "cell_type": "code",
   "execution_count": null,
   "metadata": {
    "pycharm": {
     "name": "#%%\n"
    }
   },
   "outputs": [],
   "source": []
  },
  {
   "cell_type": "code",
   "execution_count": null,
   "metadata": {
    "pycharm": {
     "name": "#%%\n"
    }
   },
   "outputs": [],
   "source": []
  },
  {
   "cell_type": "code",
   "execution_count": null,
   "metadata": {
    "pycharm": {
     "name": "#%%\n"
    }
   },
   "outputs": [],
   "source": []
  }
 ],
 "metadata": {
  "kernelspec": {
   "display_name": "Python 3 (ipykernel)",
   "language": "python",
   "name": "python3"
  },
  "language_info": {
   "codemirror_mode": {
    "name": "ipython",
    "version": 3
   },
   "file_extension": ".py",
   "mimetype": "text/x-python",
   "name": "python",
   "nbconvert_exporter": "python",
   "pygments_lexer": "ipython3",
   "version": "3.8.0"
  }
 },
 "nbformat": 4,
 "nbformat_minor": 1
}
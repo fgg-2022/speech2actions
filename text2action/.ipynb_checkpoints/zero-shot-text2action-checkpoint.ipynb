{
 "cells": [
  {
   "cell_type": "code",
   "execution_count": 1,
   "metadata": {},
   "outputs": [],
   "source": [
    "import pickle\n",
    "# import hanlp\n",
    "import matplotlib.pyplot as plt\n",
    "import requests\n",
    "import random\n",
    "import json\n",
    "import numpy as np\n",
    "# from gensim.models.keyedvectors import KeyedVectors\n",
    "from transformers import BertTokenizer, BertModel"
   ]
  },
  {
   "cell_type": "code",
   "execution_count": 2,
   "metadata": {
    "pycharm": {
     "name": "#%%\n"
    }
   },
   "outputs": [],
   "source": [
    "# 余弦相似度\n",
    "def cos_sim(vector_a, vector_b):\n",
    "    \"\"\"\n",
    "    计算两个向量之间的余弦相似度\n",
    "    :param vector_a: 向量 a\n",
    "    :param vector_b: 向量 b\n",
    "    :return: sim\n",
    "    \"\"\"\n",
    "    vector_a = np.mat(vector_a)\n",
    "    vector_b = np.mat(vector_b)\n",
    "    num = float(vector_a * vector_b.T)\n",
    "    denom = np.linalg.norm(vector_a) * np.linalg.norm(vector_b)\n",
    "    cos = num / denom\n",
    "    sim = 0.5 + 0.5 * cos\n",
    "    return sim\n",
    "\n",
    "# 欧氏距离\n",
    "def euc_dist(vector_a, vector_b):\n",
    "    return np.sqrt(np.sum(np.square(vector_a-vector_b)))"
   ]
  },
  {
   "cell_type": "code",
   "execution_count": 3,
   "metadata": {
    "pycharm": {
     "name": "#%%\n"
    }
   },
   "outputs": [],
   "source": [
    "# 翻译\n",
    "def translate(sent):\n",
    "    API_KEY = 'HZAnl45C1imoFTwpXLrupO3Z'\n",
    "    Secret_Key = 'ojsKK6BAp1sIDd1OoeFIBhdWCpYYDFMM'\n",
    "    host = f'https://aip.baidubce.com/oauth/2.0/token?grant_type' \\\n",
    "           f'=client_credentials&client_id={API_KEY}&client_secret={Secret_Key}'\n",
    "    response = requests.get(host)\n",
    "    if response:\n",
    "        token = response.json()['access_token']\n",
    "    else:\n",
    "        raise AssertionError('no Baidu access token')\n",
    "    url = 'https://aip.baidubce.com/rpc/2.0/mt/texttrans/v1?access_token=' + token\n",
    "\n",
    "    term_ids = ''  # 术语库id，多个逗号隔开\n",
    "\n",
    "    # Build request\n",
    "    headers = {'Content-Type': 'application/json'}\n",
    "    payload = {'q': sent, 'from': 'zh', 'to': 'en', 'termIds': term_ids}\n",
    "\n",
    "    # Send request\n",
    "    result = requests.post(url, params=payload, headers=headers).json()\n",
    "    translation = result['result']['trans_result'][0]['dst']\n",
    "    return translation"
   ]
  },
  {
   "cell_type": "code",
   "execution_count": null,
   "metadata": {
    "pycharm": {
     "name": "#%%\n"
    }
   },
   "outputs": [],
   "source": []
  },
  {
   "cell_type": "code",
   "execution_count": 4,
   "metadata": {
    "pycharm": {
     "name": "#%%\n"
    }
   },
   "outputs": [],
   "source": [
    "from sklearn.manifold import TSNE\n",
    "from sklearn.decomposition import PCA\n",
    "import pandas as pd\n",
    "import seaborn as sns\n",
    "\n",
    "def plot(qa_embeddings, cls_embeddings):\n",
    "    reduced_rep = TSNE(n_components=2).fit_transform(np.concatenate((qa_embeddings, cls_embeddings), axis=0))\n",
    "    # reduced_rep = TSNE(n_components=2).fit_transform(np.concatenate((qa_embeddings, cls_embeddings), axis=0))\n",
    "    dim1 = reduced_rep[:, 0].tolist()\n",
    "    dim2 = reduced_rep[:, 1].tolist()\n",
    "    # get DataFrame\n",
    "\n",
    "    data = {'dim1': dim1, 'dim2': dim2, 'labels': [1, 1, 6, 6, 7, 0, 1, 2, 3, 4, 5, 6], 'method': 't-SNE'}\n",
    "    data = pd.DataFrame(data)\n",
    "\n",
    "    # plot\n",
    "    g = sns.relplot(\n",
    "        data=data, x=\"dim1\", y=\"dim2\",\n",
    "        col='method', hue='labels',\n",
    "        kind=\"scatter\",\n",
    "    )"
   ]
  },
  {
   "cell_type": "markdown",
   "metadata": {},
   "source": []
  },
  {
   "cell_type": "code",
   "execution_count": 5,
   "metadata": {
    "pycharm": {
     "name": "#%%\n"
    }
   },
   "outputs": [],
   "source": [
    "# 视角平移\n",
    "VIEW_SHIFT = [\n",
    "    '向左转',\n",
    "    '转到后面',\n",
    "    '转向右边',\n",
    "    '视角转到下面',\n",
    "    '视角平移到上面',\n",
    "]\n"
   ]
  },
  {
   "cell_type": "code",
   "execution_count": 6,
   "metadata": {
    "pycharm": {
     "name": "#%%\n"
    }
   },
   "outputs": [
    {
     "name": "stdout",
     "output_type": "stream",
     "text": [
      "============== Loading Model ==============\n"
     ]
    },
    {
     "name": "stderr",
     "output_type": "stream",
     "text": [
      "Some weights of the model checkpoint at bert-base-uncased were not used when initializing BertModel: ['cls.predictions.transform.dense.bias', 'cls.predictions.transform.LayerNorm.weight', 'cls.seq_relationship.weight', 'cls.seq_relationship.bias', 'cls.predictions.transform.dense.weight', 'cls.predictions.transform.LayerNorm.bias', 'cls.predictions.decoder.weight', 'cls.predictions.bias']\n",
      "- This IS expected if you are initializing BertModel from the checkpoint of a model trained on another task or with another architecture (e.g. initializing a BertForSequenceClassification model from a BertForPreTraining model).\n",
      "- This IS NOT expected if you are initializing BertModel from the checkpoint of a model that you expect to be exactly identical (initializing a BertForSequenceClassification model from a BertForSequenceClassification model).\n"
     ]
    }
   ],
   "source": [
    "\n",
    "print('============== Loading Model ==============')\n",
    "# 下载语料库\n",
    "# HanLP = hanlp.load(hanlp.pretrained.mtl.CLOSE_TOK_POS_NER_SRL_DEP_SDP_CON_ELECTRA_SMALL_ZH)\n",
    "\n",
    "# # GloVe Model\n",
    "# word2vec_path = 'embedding/60000_glove.840B.300d.txt'\n",
    "# w2v = load_w2v(word2vec_path)\n",
    "#\n",
    "# labels = pickle.load(open('embedding/label_embedding.pkl', 'rb'))\n",
    "\n",
    "# Bert Model\n",
    "tokenizer = BertTokenizer.from_pretrained('bert-base-uncased')\n",
    "bert = BertModel.from_pretrained('bert-base-uncased')\n"
   ]
  },
  {
   "cell_type": "code",
   "execution_count": 12,
   "metadata": {
    "pycharm": {
     "name": "#%%\n"
    }
   },
   "outputs": [
    {
     "data": {
      "text/plain": [
       "{'View angle translation or pan up': 'Move or translate the position of the current view',\n",
       " 'View angle rotation or turn': 'Rotate the current view',\n",
       " 'Rotate the view around the selected object': 'Rotates the position of the camera with the selected Game Object as the center and the up vector as the axis to transform the current view , while keeping the camera view towards the Game Object',\n",
       " 'Object translation': 'Moves or translates the currently selected Game Object',\n",
       " 'Object rotates around itself': 'Rotates the currently selected Game Object',\n",
       " 'Object scaling': 'Scales the currently selected Game Object',\n",
       " 'Object initialization, drawing': 'Initialize or create a Object and places it in the center of the current view'}"
      ]
     },
     "execution_count": 12,
     "metadata": {},
     "output_type": "execute_result"
    }
   ],
   "source": [
    "# 类别描述\n",
    "cls_desc = {\n",
    "    'View angle translation or pan up': 'Move or translate the position of the current view',\n",
    "    'View angle rotation or turn': 'Rotate the current view',\n",
    "    'Rotate the view around the selected object': 'Rotates the position of the camera with the selected Game '\n",
    "                                                  'Object as the center and the up vector as the axis to '\n",
    "                                                  'transform the current view , while keeping the camera view '\n",
    "                                                  'towards the Game Object',\n",
    "    'Object translation': 'Moves or translates the currently selected Game Object',\n",
    "    'Object rotates around itself': 'Rotates the currently selected Game Object',\n",
    "    'Object scaling': 'Scales the currently selected Game Object',\n",
    "    'Object initialization, drawing': 'Initialize or create a Object and places it in the center of the current view'\n",
    "}\n",
    "cls_desc"
   ]
  },
  {
   "cell_type": "code",
   "execution_count": 13,
   "metadata": {
    "pycharm": {
     "name": "#%%\n"
    }
   },
   "outputs": [
    {
     "name": "stdout",
     "output_type": "stream",
     "text": [
      "============== Embedding ==============\n"
     ]
    }
   ],
   "source": [
    "\n",
    "print('============== Embedding ==============')\n",
    "# BERT list(cls_desc.keys()) [f'{k}: {v}' for k, v in cls_desc.items()]\n",
    "cls_encoder_inputs = tokenizer(list(cls_desc.keys()), padding=True, max_length=128, return_tensors='pt')\n",
    "cls_src_ids = cls_encoder_inputs['input_ids']\n",
    "cls_embeddings = bert(cls_src_ids).pooler_output.detach().numpy()\n"
   ]
  },
  {
   "cell_type": "code",
   "execution_count": 18,
   "metadata": {
    "pycharm": {
     "name": "#%%\n"
    }
   },
   "outputs": [
    {
     "data": {
      "text/plain": [
       "['Pan up to 10 meters',\n",
       " 'turn left',\n",
       " 'Turn 30 degrees to the left',\n",
       " 'Rotate 10 degrees around the square',\n",
       " 'Move the ball 10 meters below',\n",
       " 'The ball turns 20 degrees around itself',\n",
       " 'The triangle shrinks three times',\n",
       " 'The square is magnified five times',\n",
       " 'Draw a ball',\n",
       " 'Draw a cube',\n",
       " 'Put the ball on the cube']"
      ]
     },
     "execution_count": 18,
     "metadata": {},
     "output_type": "execute_result"
    }
   ],
   "source": [
    "\n",
    "# 示例\n",
    "zh_sentences = [\n",
    "    '视角平移到上方10米',         # 0\n",
    "    '向左转',              # 1\n",
    "    '向左转三十度',           # 1\n",
    "    '绕这个正方形旋转10度',         # 2\n",
    "    '把这个球移到下边10米',         # 3\n",
    "    '球绕自身转20度',         # 4\n",
    "    '三角缩小3倍',         # 5\n",
    "    '正方形放大5倍',         # 5\n",
    "    '画一个球',             # 6\n",
    "    '画一个正方体',          # 6\n",
    "    '把球放到正方体上面',    # 7\n",
    "]\n",
    "labels = [0, 1, 1, 2, 3, 4, 5, 5, 6, 6, 7]\n",
    "# 翻译\n",
    "en_sentences = [translate(sent) for sent in zh_sentences]\n",
    "en_sentences"
   ]
  },
  {
   "cell_type": "code",
   "execution_count": 19,
   "metadata": {
    "pycharm": {
     "name": "#%%\n"
    }
   },
   "outputs": [],
   "source": [
    "# Encode\n",
    "encoder_inputs = tokenizer(en_sentences, padding=True, max_length=128, return_tensors='pt')\n",
    "src_ids = encoder_inputs['input_ids']\n",
    "qa_embeddings = bert(src_ids).pooler_output.detach().numpy()\n"
   ]
  },
  {
   "cell_type": "code",
   "execution_count": 21,
   "metadata": {
    "pycharm": {
     "name": "#%%\n"
    }
   },
   "outputs": [
    {
     "name": "stdout",
     "output_type": "stream",
     "text": [
      "============== Calculating ==============\n",
      "[0, 1, 1, 2, 3, 4, 5, 5, 6, 6, 7]\n",
      "0 6 [13.796634, 12.641467, 16.09185, 14.126701, 13.254617, 11.8751545, 16.874882]\n",
      "1 3 [8.872451, 7.6528773, 9.531234, 9.678054, 7.682558, 8.674608, 9.116689]\n",
      "1 6 [10.68386, 9.324881, 12.580483, 11.181818, 9.869482, 9.088975, 13.095652]\n",
      "2 6 [12.025632, 10.603113, 13.467987, 12.6159525, 11.168981, 10.399648, 14.543812]\n",
      "3 6 [11.060694, 9.556865, 12.831893, 11.581391, 10.144745, 9.416923, 13.542421]\n",
      "4 6 [10.42524, 8.906169, 11.6671915, 11.062223, 9.4080305, 8.887235, 12.757406]\n",
      "5 6 [14.12149, 12.971665, 16.218117, 14.451864, 13.594794, 12.174905, 17.244707]\n",
      "5 6 [14.626385, 13.554176, 16.71789, 14.941382, 14.175873, 12.6766, 17.8091]\n",
      "6 6 [6.3942103, 5.0591407, 8.279434, 7.0041227, 5.362696, 5.185506, 8.464296]\n",
      "6 2 [8.010015, 6.555573, 9.472498, 8.753399, 6.805246, 7.135702, 9.450353]\n",
      "7 6 [14.65625, 13.508231, 16.933813, 14.96174, 14.114298, 12.756618, 17.666033]\n"
     ]
    }
   ],
   "source": [
    "\n",
    "print('============== Calculating ==============')\n",
    "print(labels)\n",
    "for id, embedding in enumerate(qa_embeddings):\n",
    "    # HanLP(sentences).pretty_print()\n",
    "    # HanLP(sentences, tasks='dep').pretty_print()    # 依存句法分析\n",
    "    # HanLP(sentences, tasks='con').pretty_print()    # 成分句法分析\n",
    "    # HanLP(sentences, tasks='sdp').pretty_print()    # 语义依存分析\n",
    "    # doc = HanLP(sentences, tasks='srl')    # 语义角色标注\n",
    "\n",
    "    # srl = hanlp.load('CPB3_SRL_ELECTRA_SMALL')\n",
    "\n",
    "    # Zero-shot Spoken language understanding\n",
    "    # embedding = embed(command, w2v)\n",
    "    sim_scores = [euc_dist(embedding, v) for v in cls_embeddings]   # euc_dist cos_sim\n",
    "    print(labels[id], end=' ')\n",
    "    print(np.argmax(sim_scores), end=' ')\n",
    "    print(sim_scores)"
   ]
  },
  {
   "cell_type": "code",
   "execution_count": 22,
   "metadata": {
    "pycharm": {
     "name": "#%%\n"
    }
   },
   "outputs": [
    {
     "data": {
      "text/plain": [
       "['视角平移到上方10米',\n",
       " '向左转',\n",
       " '向左转三十度',\n",
       " '绕这个正方形旋转10度',\n",
       " '把这个球移到下边10米',\n",
       " '球绕自身转20度',\n",
       " '三角缩小3倍',\n",
       " '正方形放大5倍',\n",
       " '画一个球',\n",
       " '画一个正方体',\n",
       " '把球放到正方体上面']"
      ]
     },
     "execution_count": 22,
     "metadata": {},
     "output_type": "execute_result"
    }
   ],
   "source": [
    "zh_sentences"
   ]
  },
  {
   "cell_type": "code",
   "execution_count": 23,
   "metadata": {
    "pycharm": {
     "name": "#%%\n"
    }
   },
   "outputs": [
    {
     "data": {
      "text/plain": [
       "['Pan up to 10 meters',\n",
       " 'turn left',\n",
       " 'Turn 30 degrees to the left',\n",
       " 'Rotate 10 degrees around the square',\n",
       " 'Move the ball 10 meters below',\n",
       " 'The ball turns 20 degrees around itself',\n",
       " 'The triangle shrinks three times',\n",
       " 'The square is magnified five times',\n",
       " 'Draw a ball',\n",
       " 'Draw a cube',\n",
       " 'Put the ball on the cube']"
      ]
     },
     "execution_count": 23,
     "metadata": {},
     "output_type": "execute_result"
    }
   ],
   "source": [
    "en_sentences"
   ]
  },
  {
   "cell_type": "code",
   "execution_count": 24,
   "metadata": {
    "pycharm": {
     "name": "#%%\n"
    }
   },
   "outputs": [
    {
     "data": {
      "text/plain": [
       "['View angle translation or pan up',\n",
       " 'View angle rotation or turn',\n",
       " 'Rotate the view around the selected object',\n",
       " 'Object translation',\n",
       " 'Object rotates around itself',\n",
       " 'Object scaling',\n",
       " 'Object initialization, drawing']"
      ]
     },
     "execution_count": 24,
     "metadata": {},
     "output_type": "execute_result"
    }
   ],
   "source": [
    "list(cls_desc.keys())"
   ]
  },
  {
   "cell_type": "code",
   "execution_count": null,
   "metadata": {
    "pycharm": {
     "name": "#%%\n"
    }
   },
   "outputs": [],
   "source": []
  },
  {
   "cell_type": "code",
   "execution_count": null,
   "metadata": {
    "pycharm": {
     "name": "#%%\n"
    }
   },
   "outputs": [],
   "source": []
  },
  {
   "cell_type": "code",
   "execution_count": null,
   "metadata": {
    "pycharm": {
     "name": "#%%\n"
    }
   },
   "outputs": [],
   "source": []
  },
  {
   "cell_type": "code",
   "execution_count": null,
   "metadata": {
    "pycharm": {
     "name": "#%%\n"
    }
   },
   "outputs": [],
   "source": []
  },
  {
   "cell_type": "code",
   "execution_count": null,
   "metadata": {
    "pycharm": {
     "name": "#%%\n"
    }
   },
   "outputs": [],
   "source": []
  },
  {
   "cell_type": "code",
   "execution_count": null,
   "metadata": {
    "pycharm": {
     "name": "#%%\n"
    }
   },
   "outputs": [],
   "source": []
  }
 ],
 "metadata": {
  "kernelspec": {
   "display_name": "Python 3 (ipykernel)",
   "language": "python",
   "name": "python3"
  },
  "language_info": {
   "codemirror_mode": {
    "name": "ipython",
    "version": 3
   },
   "file_extension": ".py",
   "mimetype": "text/x-python",
   "name": "python",
   "nbconvert_exporter": "python",
   "pygments_lexer": "ipython3",
   "version": "3.8.0"
  }
 },
 "nbformat": 4,
 "nbformat_minor": 1
}
